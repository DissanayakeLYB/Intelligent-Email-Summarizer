{
 "cells": [
  {
   "cell_type": "code",
   "execution_count": 2,
   "metadata": {},
   "outputs": [],
   "source": [
    "corpus = \"\"\"Hi! I am Lasith Dissanayake. \n",
    "I'm a software engineer & a researcher.\n",
    "I'm interested in machine learning, natural language processing, and computer vision.\n",
    "I'm currently working as a intern software engineer at a startup company.\n",
    "\"\"\""
   ]
  },
  {
   "cell_type": "markdown",
   "metadata": {},
   "source": [
    "# Stemming\n",
    "\n",
    "### PorterStemmer"
   ]
  },
  {
   "cell_type": "code",
   "execution_count": 3,
   "metadata": {},
   "outputs": [
    {
     "name": "stdout",
     "output_type": "stream",
     "text": [
      "eat ---> eat\n",
      "eats ---> eat\n",
      "eaten ---> eaten\n",
      "writes ---> write\n",
      "written ---> written\n",
      "wrote ---> wrote\n",
      "finally ---> final\n",
      "finalized ---> final\n",
      "history ---> histori\n"
     ]
    }
   ],
   "source": [
    "from nltk.stem import PorterStemmer\n",
    "\n",
    "stemming = PorterStemmer()\n",
    "\n",
    "words = [\"eat\", \"eats\", \"eaten\", \"writes\", \"written\", \"wrote\", \"finally\", \"finalized\", \"history\"]\n",
    "\n",
    "for word in words:\n",
    "    print(f\"{word} ---> {stemming.stem(word)}\")"
   ]
  },
  {
   "cell_type": "code",
   "execution_count": 4,
   "metadata": {},
   "outputs": [
    {
     "name": "stdout",
     "output_type": "stream",
     "text": [
      "congratul\n",
      "goe\n"
     ]
    }
   ],
   "source": [
    "# limitations\n",
    "\n",
    "print(stemming.stem(\"congratulations\"))\n",
    "print(stemming.stem(\"goes\"))"
   ]
  },
  {
   "cell_type": "markdown",
   "metadata": {},
   "source": [
    "### RegexpStemmer"
   ]
  },
  {
   "cell_type": "code",
   "execution_count": 5,
   "metadata": {},
   "outputs": [
    {
     "name": "stdout",
     "output_type": "stream",
     "text": [
      "eat\n",
      "ingeat\n"
     ]
    }
   ],
   "source": [
    "from nltk.stem import RegexpStemmer\n",
    "\n",
    "reg_stemmer = RegexpStemmer(\"ing$|s$|ed$\", min=4)\n",
    "\n",
    "print(reg_stemmer.stem(\"eating\"))\n",
    "print(reg_stemmer.stem(\"ingeating\"))\n"
   ]
  },
  {
   "cell_type": "code",
   "execution_count": 6,
   "metadata": {},
   "outputs": [
    {
     "name": "stdout",
     "output_type": "stream",
     "text": [
      "eat\n",
      "eat\n"
     ]
    }
   ],
   "source": [
    "# removed the '$' after 'ing'\n",
    "\n",
    "reg_stemmer = RegexpStemmer(\"ing|s$|ed$\", min=4)\n",
    "\n",
    "print(reg_stemmer.stem(\"eating\"))\n",
    "print(reg_stemmer.stem(\"ingeating\"))\n"
   ]
  },
  {
   "cell_type": "markdown",
   "metadata": {},
   "source": [
    "### Snowball Stemmer"
   ]
  },
  {
   "cell_type": "code",
   "execution_count": 8,
   "metadata": {},
   "outputs": [
    {
     "name": "stdout",
     "output_type": "stream",
     "text": [
      "eat ---> eat\n",
      "eats ---> eat\n",
      "eaten ---> eaten\n",
      "writes ---> write\n",
      "written ---> written\n",
      "wrote ---> wrote\n",
      "finally ---> final\n",
      "finalized ---> final\n",
      "history ---> histori\n"
     ]
    }
   ],
   "source": [
    "from nltk.stem import SnowballStemmer\n",
    "\n",
    "stemmerSnowball = SnowballStemmer(\"english\")\n",
    "\n",
    "words = [\"eat\", \"eats\", \"eaten\", \"writes\", \"written\", \"wrote\", \"finally\", \"finalized\", \"history\"]\n",
    "\n",
    "for word in words:\n",
    "    print(f\"{word} ---> {stemmerSnowball.stem(word)}\")"
   ]
  },
  {
   "cell_type": "code",
   "execution_count": 10,
   "metadata": {},
   "outputs": [
    {
     "name": "stdout",
     "output_type": "stream",
     "text": [
      "congratul\n",
      "goe\n"
     ]
    }
   ],
   "source": [
    "# limitations\n",
    "\n",
    "print(stemmerSnowball.stem(\"congratulations\"))\n",
    "print(stemmerSnowball.stem(\"goes\"))"
   ]
  },
  {
   "cell_type": "code",
   "execution_count": 17,
   "metadata": {},
   "outputs": [
    {
     "name": "stdout",
     "output_type": "stream",
     "text": [
      "This is Porter Stemmer :\n",
      "fairli\n",
      "sportingli\n",
      " \n",
      "This is RegexpStemmer :\n",
      "fairly\n",
      "sportly\n",
      " \n",
      "This is Snowball Stemmer :\n",
      "fair\n",
      "sport\n",
      " \n"
     ]
    }
   ],
   "source": [
    "# porterStemmer\n",
    "print(\"This is Porter Stemmer :\")\n",
    "print(stemming.stem('fairly'))\n",
    "print(stemming.stem('sportingly'))\n",
    "print(' ')\n",
    "\n",
    "# RegexpStemmer\n",
    "print(\"This is RegexpStemmer :\")\n",
    "print(reg_stemmer.stem('fairly'))\n",
    "print(reg_stemmer.stem('sportingly'))\n",
    "print(' ')\n",
    "\n",
    "# snowballStemmer\n",
    "print(\"This is Snowball Stemmer :\")\n",
    "print(stemmerSnowball.stem('fairly'))\n",
    "print(stemmerSnowball.stem('sportingly'))\n",
    "print(' ')"
   ]
  },
  {
   "cell_type": "code",
   "execution_count": null,
   "metadata": {},
   "outputs": [],
   "source": []
  }
 ],
 "metadata": {
  "kernelspec": {
   "display_name": "Python 3",
   "language": "python",
   "name": "python3"
  },
  "language_info": {
   "codemirror_mode": {
    "name": "ipython",
    "version": 3
   },
   "file_extension": ".py",
   "mimetype": "text/x-python",
   "name": "python",
   "nbconvert_exporter": "python",
   "pygments_lexer": "ipython3",
   "version": "3.10.10"
  }
 },
 "nbformat": 4,
 "nbformat_minor": 2
}
