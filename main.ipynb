{
 "cells": [
  {
   "cell_type": "code",
   "execution_count": 22,
   "metadata": {},
   "outputs": [],
   "source": [
    "corpus = \"\"\"Hi! I am Lasith Dissanayake. \n",
    "I'm a software engineer & a researcher.\n",
    "I'm interested in machine learning, natural language processing, and computer vision.\n",
    "I'm currently working as a intern software engineer at a startup company.\n",
    "\"\"\""
   ]
  },
  {
   "cell_type": "code",
   "execution_count": 23,
   "metadata": {},
   "outputs": [],
   "source": [
    "from nltk.tokenize import sent_tokenize\n"
   ]
  },
  {
   "cell_type": "code",
   "execution_count": 24,
   "metadata": {},
   "outputs": [
    {
     "name": "stdout",
     "output_type": "stream",
     "text": [
      "['Hi!', 'I am Lasith Dissanayake.', \"I'm a software engineer & a researcher.\", \"I'm interested in machine learning, natural language processing, and computer vision.\", \"I'm currently working as a intern software engineer at a startup company.\"]\n"
     ]
    }
   ],
   "source": [
    "sentences = sent_tokenize(corpus)\n",
    "print(sentences)"
   ]
  },
  {
   "cell_type": "code",
   "execution_count": 25,
   "metadata": {},
   "outputs": [
    {
     "name": "stdout",
     "output_type": "stream",
     "text": [
      "Hi!\n",
      "I am Lasith Dissanayake.\n",
      "I'm a software engineer & a researcher.\n",
      "I'm interested in machine learning, natural language processing, and computer vision.\n",
      "I'm currently working as a intern software engineer at a startup company.\n"
     ]
    }
   ],
   "source": [
    "for sentence in sentences:\n",
    "    print(sentence)"
   ]
  },
  {
   "cell_type": "code",
   "execution_count": 20,
   "metadata": {},
   "outputs": [],
   "source": [
    "from nltk.tokenize import word_tokenize"
   ]
  },
  {
   "cell_type": "code",
   "execution_count": 26,
   "metadata": {},
   "outputs": [
    {
     "name": "stdout",
     "output_type": "stream",
     "text": [
      "['Hi', '!', 'I', 'am', 'Lasith', 'Dissanayake', '.', 'I', \"'m\", 'a', 'software', 'engineer', '&', 'a', 'researcher', '.', 'I', \"'m\", 'interested', 'in', 'machine', 'learning', ',', 'natural', 'language', 'processing', ',', 'and', 'computer', 'vision', '.', 'I', \"'m\", 'currently', 'working', 'as', 'a', 'intern', 'software', 'engineer', 'at', 'a', 'startup', 'company', '.']\n"
     ]
    }
   ],
   "source": [
    "words = word_tokenize(corpus)\n",
    "print(words)"
   ]
  },
  {
   "cell_type": "code",
   "execution_count": 27,
   "metadata": {},
   "outputs": [],
   "source": [
    "from nltk.tokenize import wordpunct_tokenize\n"
   ]
  },
  {
   "cell_type": "code",
   "execution_count": 28,
   "metadata": {},
   "outputs": [
    {
     "name": "stdout",
     "output_type": "stream",
     "text": [
      "['Hi', '!', 'I', 'am', 'Lasith', 'Dissanayake', '.', 'I', \"'\", 'm', 'a', 'software', 'engineer', '&', 'a', 'researcher', '.', 'I', \"'\", 'm', 'interested', 'in', 'machine', 'learning', ',', 'natural', 'language', 'processing', ',', 'and', 'computer', 'vision', '.', 'I', \"'\", 'm', 'currently', 'working', 'as', 'a', 'intern', 'software', 'engineer', 'at', 'a', 'startup', 'company', '.']\n"
     ]
    }
   ],
   "source": [
    "words_punct = wordpunct_tokenize(corpus)\n",
    "\n",
    "print(words_punct)"
   ]
  },
  {
   "cell_type": "code",
   "execution_count": 29,
   "metadata": {},
   "outputs": [],
   "source": [
    "from nltk.tokenize import TreebankWordTokenizer"
   ]
  },
  {
   "cell_type": "code",
   "execution_count": 31,
   "metadata": {},
   "outputs": [
    {
     "name": "stdout",
     "output_type": "stream",
     "text": [
      "['Hi', '!', 'I', 'am', 'Lasith', 'Dissanayake.', 'I', \"'m\", 'a', 'software', 'engineer', '&', 'a', 'researcher.', 'I', \"'m\", 'interested', 'in', 'machine', 'learning', ',', 'natural', 'language', 'processing', ',', 'and', 'computer', 'vision.', 'I', \"'m\", 'currently', 'working', 'as', 'a', 'intern', 'software', 'engineer', 'at', 'a', 'startup', 'company', '.']\n"
     ]
    }
   ],
   "source": [
    "tokenizer = TreebankWordTokenizer()\n",
    "words_treebank = tokenizer.tokenize(corpus)\n",
    "\n",
    "print(words_treebank)"
   ]
  },
  {
   "cell_type": "code",
   "execution_count": null,
   "metadata": {},
   "outputs": [],
   "source": []
  }
 ],
 "metadata": {
  "kernelspec": {
   "display_name": "Python 3",
   "language": "python",
   "name": "python3"
  },
  "language_info": {
   "codemirror_mode": {
    "name": "ipython",
    "version": 3
   },
   "file_extension": ".py",
   "mimetype": "text/x-python",
   "name": "python",
   "nbconvert_exporter": "python",
   "pygments_lexer": "ipython3",
   "version": "3.10.10"
  }
 },
 "nbformat": 4,
 "nbformat_minor": 2
}
